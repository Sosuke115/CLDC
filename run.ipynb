{
 "cells": [
  {
   "cell_type": "code",
   "execution_count": 35,
   "metadata": {},
   "outputs": [],
   "source": [
    "from gensim.models.keyedvectors import KeyedVectors\n",
    "import argparse\n",
    "import importlib\n",
    "import main\n",
    "import utils\n",
    "importlib.reload(main)\n",
    "importlib.reload(utils)\n",
    "from main import main_jupyter"
   ]
  },
  {
   "cell_type": "markdown",
   "metadata": {},
   "source": [
    "## loading vectors"
   ]
  },
  {
   "cell_type": "code",
   "execution_count": 2,
   "metadata": {},
   "outputs": [],
   "source": [
    "word_vector1 = KeyedVectors.load_word2vec_format(\"../UNMT-JL_test/10Mtest/train.1000k.en.map.vec\", binary=False)"
   ]
  },
  {
   "cell_type": "code",
   "execution_count": 3,
   "metadata": {},
   "outputs": [],
   "source": [
    "word_vector2 = KeyedVectors.load_word2vec_format(\"../UNMT-JL_test/10Mtest/train.1000k.fr.map.vec\", binary=False)"
   ]
  },
  {
   "cell_type": "code",
   "execution_count": 36,
   "metadata": {},
   "outputs": [],
   "source": [
    "parser = argparse.ArgumentParser(description=\"-----[CNN-classifier]-----\")\n",
    "parser.add_argument(\"--mode\", default=\"train\", help=\"train: train (with test) a model / test: test saved models\")\n",
    "parser.add_argument(\"--model\", default=\"static\", help=\"available models: rand, static, non-static, multichannel\")\n",
    "parser.add_argument(\"--dataset\", default=\"ted\")\n",
    "parser.add_argument(\"--save_model\", default=True, action='store_true', help=\"whether saving model or not\")\n",
    "parser.add_argument(\"--early_stopping\", default=False, action='store_true', help=\"whether to apply early stopping\")\n",
    "parser.add_argument(\"--epoch\", default= 10, type=int, help=\"number of max epoch\")\n",
    "parser.add_argument(\"--learning_rate\", default=0.0001, type=float, help=\"learning rate\")\n",
    "parser.add_argument(\"--gpu\", default=1, type=int, help=\"the number of gpu to be used\")\n",
    "parser.add_argument(\"--model_name\", default=\"test\",help=\"model's name\")\n",
    "parser.add_argument(\"--word_dim\", default=512,type=int,help=\"word dim\")\n",
    "parser.add_argument(\"--random_state\", default=1,type=int,help=\"random state\")\n",
    "options = parser.parse_args(args=[])"
   ]
  },
  {
   "cell_type": "code",
   "execution_count": 53,
   "metadata": {},
   "outputs": [
    {
     "name": "stdout",
     "output_type": "stream",
     "text": [
      "arts\n",
      "static\n",
      "====================TRAINING STARTED====================\n"
     ]
    },
    {
     "name": "stderr",
     "output_type": "stream",
     "text": [
      "/data/local/nishikawa/CLDC/utils.py:184: UserWarning: torch.nn.utils.clip_grad_norm is now deprecated in favor of torch.nn.utils.clip_grad_norm_.\n",
      "  nn.utils.clip_grad_norm(parameters, max_norm=params[\"NORM_LIMIT\"])\n"
     ]
    },
    {
     "name": "stdout",
     "output_type": "stream",
     "text": [
      "test_acc2: 0.09411380698509411\n",
      "epoch: 1 / dev_acc: 0.595 F_scores: 0.1720365950676213 / loss: 0.6917370557785034\n",
      "test_acc2: 0.09824828636709824\n",
      "epoch: 2 / dev_acc: 0.613 F_scores: 0.17235869782304772 / loss: 0.6804423928260803\n",
      "test_acc2: 0.11685344358611685\n",
      "epoch: 3 / dev_acc: 0.614 F_scores: 0.17249464777245385 / loss: 0.6714718341827393\n",
      "max F_scores: 0.17249464777245385\n",
      "aaa\n",
      "A model is saved successfully as saved_models/vecmap/arts_3_s1.pkl!\n",
      "====================TRAINING FINISHED====================\n",
      "test_acc2: 0.11685344358611685\n",
      "F_scores: 0.17249464777245385 TP: 846 FP: 8098 TN: 228 FN: 19\n",
      "\n",
      "micro Fscore: 0.172\n",
      "macro Fscore: 0.172\n"
     ]
    }
   ],
   "source": [
    "#test full data\n",
    "options.model_name = \"vecmap\"\n",
    "options.epoch = 3\n",
    "options.save_model = True\n",
    "options.random_state = 1\n",
    "main_jupyter(word_vector1,word_vector2,options)"
   ]
  }
 ],
 "metadata": {
  "kernelspec": {
   "display_name": "Python 3",
   "language": "python",
   "name": "python3"
  },
  "language_info": {
   "codemirror_mode": {
    "name": "ipython",
    "version": 3
   },
   "file_extension": ".py",
   "mimetype": "text/x-python",
   "name": "python",
   "nbconvert_exporter": "python",
   "pygments_lexer": "ipython3",
   "version": "3.6.5"
  }
 },
 "nbformat": 4,
 "nbformat_minor": 2
}
