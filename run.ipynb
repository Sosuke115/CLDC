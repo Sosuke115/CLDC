{
 "cells": [
  {
   "cell_type": "code",
   "execution_count": 15,
   "metadata": {},
   "outputs": [],
   "source": [
    "from gensim.models.keyedvectors import KeyedVectors\n",
    "import argparse\n",
    "import importlib\n",
    "import main\n",
    "import utils\n",
    "importlib.reload(main)\n",
    "importlib.reload(utils)\n",
    "from main import main_jupyter"
   ]
  },
  {
   "cell_type": "markdown",
   "metadata": {},
   "source": [
    "## loading vectors"
   ]
  },
  {
   "cell_type": "code",
   "execution_count": 4,
   "metadata": {},
   "outputs": [],
   "source": [
    "word_vector1 = KeyedVectors.load_word2vec_format(\"../UNMT-JL_test/10Mtest/train.1000k.en.map.vec\", binary=False)"
   ]
  },
  {
   "cell_type": "code",
   "execution_count": 5,
   "metadata": {},
   "outputs": [],
   "source": [
    "word_vector2 = KeyedVectors.load_word2vec_format(\"../UNMT-JL_test/10Mtest/train.1000k.fr.map.vec\", binary=False)"
   ]
  },
  {
   "cell_type": "code",
   "execution_count": 9,
   "metadata": {},
   "outputs": [],
   "source": [
    "word_vectors5 = KeyedVectors.load_word2vec_format(\"../UNMT-vec_test/pbsmt/train.shuf.en.map.vec\", binary=False)"
   ]
  },
  {
   "cell_type": "code",
   "execution_count": 10,
   "metadata": {},
   "outputs": [],
   "source": [
    "word_vectors6 = KeyedVectors.load_word2vec_format(\"../UNMT-vec_test/pbsmt/train.shuf.fr.map.vec\", binary=False)"
   ]
  },
  {
   "cell_type": "code",
   "execution_count": 16,
   "metadata": {},
   "outputs": [],
   "source": [
    "parser = argparse.ArgumentParser(description=\"-----[CNN-classifier]-----\")\n",
    "parser.add_argument(\"--mode\", default=\"train\", help=\"train: train (with test) a model / test: test saved models\")\n",
    "parser.add_argument(\"--model\", default=\"static\", help=\"available models: rand, static, non-static, multichannel\")\n",
    "parser.add_argument(\"--dataset\", default=\"ted\")\n",
    "parser.add_argument(\"--save_model\", default=True, action='store_true', help=\"whether saving model or not\")\n",
    "parser.add_argument(\"--early_stopping\", default=False, action='store_true', help=\"whether to apply early stopping\")\n",
    "parser.add_argument(\"--epoch\", default= 10, type=int, help=\"number of max epoch\")\n",
    "parser.add_argument(\"--learning_rate\", default=0.0001, type=float, help=\"learning rate\")\n",
    "parser.add_argument(\"--gpu\", default=1, type=int, help=\"the number of gpu to be used\")\n",
    "parser.add_argument(\"--model_name\", default=\"test\",help=\"model's name\")\n",
    "parser.add_argument(\"--word_dim\", default=512,type=int,help=\"word dim\")\n",
    "parser.add_argument(\"--random_state\", default=1,type=int,help=\"random state\")\n",
    "options = parser.parse_args(args=[])"
   ]
  },
  {
   "cell_type": "code",
   "execution_count": null,
   "metadata": {},
   "outputs": [],
   "source": [
    "#test full data\n",
    "options.model_name = \"test\"\n",
    "options.epoch = 30\n",
    "options.save_model = True\n",
    "options.random_state = 2\n",
    "options.mode = \"train\"\n",
    "options.gpu = 0\n",
    "main_jupyter(word_vectors5,word_vectors6,options)"
   ]
  }
 ],
 "metadata": {
  "kernelspec": {
   "display_name": "Python 3",
   "language": "python",
   "name": "python3"
  },
  "language_info": {
   "codemirror_mode": {
    "name": "ipython",
    "version": 3
   },
   "file_extension": ".py",
   "mimetype": "text/x-python",
   "name": "python",
   "nbconvert_exporter": "python",
   "pygments_lexer": "ipython3",
   "version": "3.6.5"
  }
 },
 "nbformat": 4,
 "nbformat_minor": 2
}
