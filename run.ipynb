{
 "cells": [
  {
   "cell_type": "code",
   "execution_count": 69,
   "metadata": {},
   "outputs": [],
   "source": [
    "from gensim.models.keyedvectors import KeyedVectors\n",
    "import argparse\n",
    "import importlib\n",
    "import main\n",
    "import utils\n",
    "importlib.reload(main)\n",
    "importlib.reload(utils)\n",
    "from main import main_jupyter"
   ]
  },
  {
   "cell_type": "markdown",
   "metadata": {},
   "source": [
    "## loading vectors"
   ]
  },
  {
   "cell_type": "code",
   "execution_count": 2,
   "metadata": {},
   "outputs": [],
   "source": [
    "word_vector1 = KeyedVectors.load_word2vec_format(\"../UNMT-JL_test/10Mtest/train.1000k.en.map.vec\", binary=False)"
   ]
  },
  {
   "cell_type": "code",
   "execution_count": 3,
   "metadata": {},
   "outputs": [],
   "source": [
    "word_vector2 = KeyedVectors.load_word2vec_format(\"../UNMT-JL_test/10Mtest/train.1000k.fr.map.vec\", binary=False)"
   ]
  },
  {
   "cell_type": "code",
   "execution_count": 70,
   "metadata": {},
   "outputs": [],
   "source": [
    "parser = argparse.ArgumentParser(description=\"-----[CNN-classifier]-----\")\n",
    "parser.add_argument(\"--mode\", default=\"train\", help=\"train: train (with test) a model / test: test saved models\")\n",
    "parser.add_argument(\"--model\", default=\"static\", help=\"available models: rand, static, non-static, multichannel\")\n",
    "parser.add_argument(\"--dataset\", default=\"ted\")\n",
    "parser.add_argument(\"--save_model\", default=True, action='store_true', help=\"whether saving model or not\")\n",
    "parser.add_argument(\"--early_stopping\", default=False, action='store_true', help=\"whether to apply early stopping\")\n",
    "parser.add_argument(\"--epoch\", default= 10, type=int, help=\"number of max epoch\")\n",
    "parser.add_argument(\"--learning_rate\", default=0.0001, type=float, help=\"learning rate\")\n",
    "parser.add_argument(\"--gpu\", default=1, type=int, help=\"the number of gpu to be used\")\n",
    "parser.add_argument(\"--model_name\", default=\"test\",help=\"model's name\")\n",
    "parser.add_argument(\"--word_dim\", default=512,type=int,help=\"word dim\")\n",
    "parser.add_argument(\"--random_state\", default=1,type=int,help=\"random state\")\n",
    "options = parser.parse_args(args=[])"
   ]
  },
  {
   "cell_type": "code",
   "execution_count": 72,
   "metadata": {},
   "outputs": [
    {
     "name": "stdout",
     "output_type": "stream",
     "text": [
      "Model in saved_models/test/arts_1_s1.pkl loaded successfully!\n",
      "test_acc2: 0.09411380698509411\n",
      "F_scores: 0.1720365950676213 TP: 865 FP: 8326 TN: 0 FN: 0\n",
      "\n",
      "Model in saved_models/test/biology_1_s1.pkl loaded successfully!\n",
      "test_acc2: 0.08377760853008377\n",
      "F_scores: 0.15460295151089246 TP: 770 FP: 8421 TN: 0 FN: 0\n",
      "\n",
      "micro Fscore: 0.163\n",
      "macro Fscore: 0.163\n"
     ]
    }
   ],
   "source": [
    "#test full data\n",
    "options.model_name = \"test\"\n",
    "options.epoch = 1\n",
    "options.save_model = True\n",
    "options.random_state = 1\n",
    "options.mode = \"test\"\n",
    "main_jupyter(word_vector1,word_vector2,options)"
   ]
  },
  {
   "cell_type": "code",
   "execution_count": null,
   "metadata": {},
   "outputs": [],
   "source": []
  }
 ],
 "metadata": {
  "kernelspec": {
   "display_name": "Python 3",
   "language": "python",
   "name": "python3"
  },
  "language_info": {
   "codemirror_mode": {
    "name": "ipython",
    "version": 3
   },
   "file_extension": ".py",
   "mimetype": "text/x-python",
   "name": "python",
   "nbconvert_exporter": "python",
   "pygments_lexer": "ipython3",
   "version": "3.6.5"
  }
 },
 "nbformat": 4,
 "nbformat_minor": 2
}
